{
 "cells": [
  {
   "cell_type": "code",
   "execution_count": 1,
   "metadata": {},
   "outputs": [],
   "source": [
    "#Import packages\n",
    "import pandas as pd\n",
    "import numpy as np\n",
    "from selenium import webdriver\n",
    "from selenium.webdriver.common.keys import Keys\n",
    "from selenium.webdriver.support.ui import WebDriverWait\n",
    "from selenium.webdriver.support import expected_conditions as EC\n",
    "from selenium.webdriver.common.by import By\n",
    "from bs4 import BeautifulSoup\n",
    "import shutil\n",
    "import os\n",
    "import time\n",
    "import datetime"
   ]
  },
  {
   "cell_type": "code",
   "execution_count": 2,
   "metadata": {},
   "outputs": [],
   "source": [
    "#Initialize global variables for paths & date\n",
    "TodaysDate = time.strftime(\"%#m/%d/%Y\")\n",
    "dl_path = 'C:/Users/vorbej1/Downloads/'\n",
    "share_dr_path = 'X:/Ying_Ba/MH - Safety Metrics/Input/'"
   ]
  },
  {
   "cell_type": "code",
   "execution_count": 3,
   "metadata": {},
   "outputs": [],
   "source": [
    "#Load WebDriver\n",
    "driver = webdriver.Chrome('C:/Users/vorbej1/desktop/chromedriver.exe')"
   ]
  },
  {
   "cell_type": "code",
   "execution_count": 4,
   "metadata": {},
   "outputs": [],
   "source": [
    "#Load Compliance Assessment & ESD Performance site\n",
    "driver.get('http://globalims/ReportSiteIMS/GroupReports/AssessmentCompliance.aspx')"
   ]
  },
  {
   "cell_type": "code",
   "execution_count": 5,
   "metadata": {},
   "outputs": [],
   "source": [
    "#Send filter to date..as report runs monthly this will always be the last day of the month\n",
    "driver.find_element_by_id('MainContent_dtTo').clear()\n",
    "driver.find_element_by_id('MainContent_dtTo').send_keys(TodaysDate)"
   ]
  },
  {
   "cell_type": "code",
   "execution_count": 6,
   "metadata": {},
   "outputs": [],
   "source": [
    "#Select all gas operation employees\n",
    "time.sleep(5)\n",
    "driver.find_element_by_xpath('//a[@tabindex=\"17\"]').click()"
   ]
  },
  {
   "cell_type": "code",
   "execution_count": 7,
   "metadata": {},
   "outputs": [],
   "source": [
    "#Switch to new tab to obtain report\n",
    "windows = driver.window_handles\n",
    "driver.switch_to.window(windows[1])"
   ]
  },
  {
   "cell_type": "code",
   "execution_count": 8,
   "metadata": {},
   "outputs": [],
   "source": [
    "#Allow time for window to switch & export report to excel\n",
    "time.sleep(3)\n",
    "driver.find_element_by_id('ctl00_MainContent_ReportViewer1_ctl05_ctl04_ctl00_ButtonLink').click()\n",
    "driver.find_element_by_link_text('Excel').click()\n",
    "time.sleep(5)"
   ]
  },
  {
   "cell_type": "code",
   "execution_count": 9,
   "metadata": {},
   "outputs": [
    {
     "data": {
      "text/plain": [
       "'X:/Ying_Ba/MH - Safety Metrics/Input/asses_perf_report.xls'"
      ]
     },
     "execution_count": 9,
     "metadata": {},
     "output_type": "execute_result"
    }
   ],
   "source": [
    "#Move to correct location\n",
    "shutil.move(dl_path + 'Assessment Performance Details.xls','X:/Ying_Ba/MH - Safety Metrics/Input/asses_perf_report.xls')"
   ]
  },
  {
   "cell_type": "code",
   "execution_count": 10,
   "metadata": {},
   "outputs": [],
   "source": [
    "#Open file and start at column headers, drop first blank column\n",
    "asses_report = pd.read_excel(share_dr_path + 'asses_perf_report.xls', skiprows=6, usecols='B:Z')"
   ]
  },
  {
   "cell_type": "code",
   "execution_count": 11,
   "metadata": {},
   "outputs": [],
   "source": [
    "#Trim '.1' off columns (columns named the same in excel but are under a different header)\n",
    "esd_cols = list(asses_report.columns.values[11:19])\n",
    "esd_cols = [x.rstrip('.1') for x in esd_cols] "
   ]
  },
  {
   "cell_type": "code",
   "execution_count": 12,
   "metadata": {},
   "outputs": [],
   "source": [
    "#Apply the strip and apply correct prefix to columns\n",
    "asses_report.columns.values[11:19]  = esd_cols\n",
    "asses_report.columns.values[11:19] = 'ESD ' + asses_report.columns.values[11:19]\n",
    "asses_report.columns.values[4:11] = 'CA ' + asses_report.columns.values[4:11] "
   ]
  },
  {
   "cell_type": "code",
   "execution_count": 13,
   "metadata": {},
   "outputs": [],
   "source": [
    "#Write to excel for alteryx input\n",
    "asses_report.to_excel('X:/Ying_Ba/MH - Safety Metrics/Input/asses_perf_report.xls')"
   ]
  }
 ],
 "metadata": {
  "kernelspec": {
   "display_name": "Python 3",
   "language": "python",
   "name": "python3"
  },
  "language_info": {
   "codemirror_mode": {
    "name": "ipython",
    "version": 3
   },
   "file_extension": ".py",
   "mimetype": "text/x-python",
   "name": "python",
   "nbconvert_exporter": "python",
   "pygments_lexer": "ipython3",
   "version": "3.7.1"
  }
 },
 "nbformat": 4,
 "nbformat_minor": 2
}
